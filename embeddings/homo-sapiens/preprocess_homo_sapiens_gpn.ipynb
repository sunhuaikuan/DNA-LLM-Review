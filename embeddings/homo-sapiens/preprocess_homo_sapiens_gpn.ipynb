{
 "cells": [
  {
   "cell_type": "code",
   "execution_count": null,
   "id": "01cacbfc-bb6d-4a47-8944-82230b5e94a3",
   "metadata": {},
   "outputs": [],
   "source": [
    "from gpn.data import GenomeMSA #, Tokenizer\n",
    "import gpn.model\n",
    "\n",
    "from tqdm import tqdm\n",
    "from sklearn.preprocessing import LabelEncoder, StandardScaler\n",
    "from transformers import AutoModel #, AutoModelForMaskedLM\n",
    "import torch\n",
    "import numpy as np\n",
    "import pandas as pd\n",
    "import seaborn as sns\n",
    "import matplotlib.pyplot as plt\n",
    "import os\n",
    "import csv\n",
    "import warnings\n",
    "warnings.filterwarnings('ignore')\n",
    "\n",
    "%run preprocess_utility.py\n",
    "\n",
    "device=torch.device('cuda' if torch.cuda.is_available() else 'cpu')\n",
    "device"
   ]
  },
  {
   "cell_type": "code",
   "execution_count": null,
   "id": "a662182d-8566-4312-8f56-3a1cbb72dfb3",
   "metadata": {},
   "outputs": [],
   "source": [
    "model_path = \"songlab/gpn-msa-sapiens\"\n",
    "msa_path = \"zip:///::/home/sunhuaikuan/ondemand/blue_gpn/examples/msa/89.zarr.zip\"\n",
    "genome_msa = GenomeMSA(msa_path)\n",
    "model = AutoModel.from_pretrained(model_path).to(device)\n",
    "model.eval();"
   ]
  },
  {
   "cell_type": "markdown",
   "id": "61f1f950-2739-44b5-b7c0-f666d3c80d6a",
   "metadata": {},
   "source": [
    "### Main Function to get Embedding"
   ]
  },
  {
   "cell_type": "code",
   "execution_count": null,
   "id": "2c8d7807-85ad-44b3-9447-63e55064a87f",
   "metadata": {},
   "outputs": [],
   "source": [
    "comp = {'A':1, 'C':2, 'G':3, 'T':4}\n",
    "\n",
    "max_seqlen=128\n",
    "\n",
    "def Genosome2Embedding(chrom, pos_start, pos_end, rowid, y):\n",
    "\n",
    "    msa = genome_msa.get_msa(str(chrom), pos_start, pos_end, strand=\"+\", tokenize=True)\n",
    "    \n",
    "    msa = torch.tensor(np.expand_dims(msa, 0).astype(np.int64))\n",
    "    \n",
    "    # separating human from rest of species\n",
    "    input_ids, aux_features = msa[:, :, 0], msa[:, :, 1:]\n",
    "    \n",
    "    input_ids = input_ids.to(device)\n",
    "    aux_features = aux_features.to(device)\n",
    "\n",
    "\n",
    "    with torch.no_grad():\n",
    "        last_hidden_state = model(input_ids=input_ids, aux_features=aux_features).last_hidden_state\n",
    "        \n",
    "        # Mean Pooling: Compute the mean across the sequence length (dim=1)\n",
    "        mean_pooled = last_hidden_state.mean(dim=1)  # Shape: (batch_size, embedding_dim)\n",
    "\n",
    "    feature=np.append(mean_pooled.cpu().numpy(),  [rowid, y]) # chrom, pos_end-pos_start,\n",
    "    \n",
    "    return feature"
   ]
  },
  {
   "cell_type": "markdown",
   "id": "477b3f25-8134-4403-840b-1ee587329800",
   "metadata": {},
   "source": [
    "### Output CSV File"
   ]
  },
  {
   "cell_type": "code",
   "execution_count": null,
   "id": "64c65f65-0068-44a6-aacb-efb384aabe38",
   "metadata": {},
   "outputs": [],
   "source": [
    "def output2CSV(df, csv_Filename):\n",
    "\n",
    "    if os.path.exists(csv_Filename):\n",
    "        os.remove(csv_Filename)\n",
    "\n",
    "    rows=[]\n",
    "    for index, row in df.iterrows():\n",
    "        \n",
    "        chrom=row['CHROM']\n",
    "        pos_start=row['START']\n",
    "        pos_end=row['END']\n",
    "        rowid=row['ROWID']\n",
    "        y=row['y']\n",
    "        try:\n",
    "            embedding  =  Genosome2Embedding(chrom, pos_start, pos_end, rowid, y)\n",
    "            rows.append(embedding)\n",
    "    \n",
    "        except Exception as e:\n",
    "            print(f\"exception caught: {e}\"+str(row['CHROM'])+'-'+str(row['START']))\n",
    "    \n",
    "\n",
    "        if ((index % 1000) ==0):\n",
    "            with open(csv_Filename, mode='a', newline='') as file:\n",
    "                writer = csv.writer(file)\n",
    "                for row in rows:\n",
    "                    writer.writerow(row)\n",
    "            rows=[]\n",
    "            # progress_bar.update(1)\n",
    "            print(f\"complete index={index}\")\n",
    "\n",
    "    \n",
    "    with open(csv_Filename, mode='a', newline='') as file:\n",
    "        writer = csv.writer(file)\n",
    "        for row in rows:\n",
    "            writer.writerow(row)\n",
    "\n",
    "    print(f\"Create File: \"+csv_Filename)\n"
   ]
  },
  {
   "cell_type": "markdown",
   "id": "14719867-8daf-47b6-8957-4f78881c9b1a",
   "metadata": {},
   "source": [
    "### Load Homo_Sapiens data"
   ]
  },
  {
   "cell_type": "code",
   "execution_count": null,
   "id": "77d91117-b87f-4815-967f-ac9c306dedbb",
   "metadata": {},
   "outputs": [],
   "source": [
    "datafile_path = '../../datasets/task03-homo-sapiens/Homo_sapiens.GRCh38.109.txt.gz'  \n",
    "df = preprocess_home_sapiens_datafile(datafile_path)\n",
    "\n",
    "df.loc[df['SIZE'] > max_seqlen, 'END'] = df['START'] + max_seqlen\n",
    "df.loc[df['SIZE'] > max_seqlen, 'SIZE'] = max_seqlen\n",
    "\n",
    "df=df.drop(columns=['TYPE','CLUSTER'])\n",
    "df"
   ]
  },
  {
   "cell_type": "code",
   "execution_count": null,
   "id": "c26ed760-7a6c-4caf-a16b-bad70f3fb76b",
   "metadata": {},
   "outputs": [],
   "source": [
    "%%time\n",
    "output2CSV(df,'./homo_sapiens_gpn_embedding.csv')"
   ]
  },
  {
   "cell_type": "markdown",
   "id": "b20ae207-fd2a-40ec-9c03-a88b14504d6c",
   "metadata": {},
   "source": [
    "### Load CSV File"
   ]
  },
  {
   "cell_type": "code",
   "execution_count": null,
   "id": "50eb2e37-e973-43e7-b7ea-429c62e1b9a0",
   "metadata": {},
   "outputs": [],
   "source": [
    "def load_embedding_file(csv_filename):\n",
    "\n",
    "    df=pd.read_csv(csv_filename)\n",
    "    \n",
    "    column_names = [f'{i}' for i in range(1, df.shape[1]-1)]\n",
    "    column_names.extend(['ROWID', 'y']) \n",
    "    \n",
    "    df.columns = column_names\n",
    "    return df\n",
    "\n",
    "df = load_embedding_file('./homo_sapiens_gpn_embedding.csv')\n",
    "df"
   ]
  }
 ],
 "metadata": {
  "kernelspec": {
   "display_name": "Python 3 (ipykernel)",
   "language": "python",
   "name": "python3"
  },
  "language_info": {
   "codemirror_mode": {
    "name": "ipython",
    "version": 3
   },
   "file_extension": ".py",
   "mimetype": "text/x-python",
   "name": "python",
   "nbconvert_exporter": "python",
   "pygments_lexer": "ipython3",
   "version": "3.11.7"
  }
 },
 "nbformat": 4,
 "nbformat_minor": 5
}
