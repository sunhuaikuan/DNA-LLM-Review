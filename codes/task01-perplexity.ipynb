{
 "cells": [
  {
   "cell_type": "code",
   "execution_count": 15,
   "id": "ebe9a5e0-c825-49e3-8119-69ffcbb8ed98",
   "metadata": {
    "tags": []
   },
   "outputs": [],
   "source": [
    "import torch\n",
    "import numpy as np\n",
    "import pandas as pd\n",
    "import torch.nn.functional as F\n",
    "import os"
   ]
  },
  {
   "cell_type": "code",
   "execution_count": 22,
   "id": "29417678-4df3-4f68-8c6a-aba27eac57c3",
   "metadata": {
    "tags": []
   },
   "outputs": [],
   "source": [
    "def calculate_ppl(file_path):\n",
    "\n",
    "    logits = pd.read_csv(file_path)\n",
    "    \n",
    "    file_name = os.path.basename(file_path)\n",
    "    prefix1 = file_name.split('_')[0]\n",
    "    prefix2 = file_name.split('_')[1]\n",
    "    \n",
    "    labels = logits['True Label']\n",
    "    labels_tensor = torch.tensor(labels.values, dtype=torch.long)\n",
    "\n",
    "    logits_tensor = torch.tensor(logits.iloc[:, 1:].values, dtype=torch.float32)  #\n",
    "\n",
    "    loss = F.cross_entropy(logits_tensor, labels_tensor)\n",
    "\n",
    "    ppl = torch.exp(loss)\n",
    "    \n",
    "    print(f\"{prefix1}-{prefix2}-Perplexity:\", ppl.item())"
   ]
  },
  {
   "cell_type": "markdown",
   "id": "d84858c9-81f7-4688-9059-8023e2c61834",
   "metadata": {},
   "source": [
    "# Set base directory for embedding file "
   ]
  },
  {
   "cell_type": "code",
   "execution_count": 26,
   "id": "d5758703-afb1-49f0-847c-c82e2e17e145",
   "metadata": {
    "tags": []
   },
   "outputs": [],
   "source": [
    "base_dir = '/blue/xiaofan/sunhuaikuan/PAPERS/DNA_LLM_REVIEW/embeddings/perplexity/embedding-csv/'"
   ]
  },
  {
   "cell_type": "markdown",
   "id": "cbb24a41-abad-41ed-b20a-2d7682e57315",
   "metadata": {},
   "source": [
    "# GPN"
   ]
  },
  {
   "cell_type": "code",
   "execution_count": 27,
   "id": "428fdadc-3c65-4fbf-8ff3-8cc2cc722f81",
   "metadata": {
    "tags": []
   },
   "outputs": [
    {
     "name": "stdout",
     "output_type": "stream",
     "text": [
      "gpn-exon-Perplexity: 1.404884934425354\n"
     ]
    }
   ],
   "source": [
    "calculate_ppl(base_dir + 'gpn_exon_logits.csv')"
   ]
  },
  {
   "cell_type": "code",
   "execution_count": 36,
   "id": "f41dc54a-a0e9-4c61-aada-4a889156480b",
   "metadata": {
    "tags": []
   },
   "outputs": [
    {
     "name": "stdout",
     "output_type": "stream",
     "text": [
      "gpn-proximity-Perplexity: 2.2422034740448\n"
     ]
    }
   ],
   "source": [
    "calculate_ppl(base_dir + 'gpn_proximity_logits.csv')"
   ]
  },
  {
   "cell_type": "code",
   "execution_count": 37,
   "id": "72608d74-9ce5-41ef-a091-adb7e58bcb0b",
   "metadata": {
    "tags": []
   },
   "outputs": [
    {
     "name": "stdout",
     "output_type": "stream",
     "text": [
      "gpn-intergenic-Perplexity: 2.4156715869903564\n"
     ]
    }
   ],
   "source": [
    "calculate_ppl(base_dir + 'gpn_intergenic_logits.csv')"
   ]
  },
  {
   "cell_type": "markdown",
   "id": "cf72cf76-c1dc-4a90-a5ea-ff8a739bed33",
   "metadata": {},
   "source": [
    "# Hyena-DNA"
   ]
  },
  {
   "cell_type": "code",
   "execution_count": 30,
   "id": "5c2c414e-1f35-4b0e-b158-e85b11e5c558",
   "metadata": {
    "tags": []
   },
   "outputs": [
    {
     "name": "stdout",
     "output_type": "stream",
     "text": [
      "hd-exon-Perplexity: 9.36009693145752\n"
     ]
    }
   ],
   "source": [
    "calculate_ppl(base_dir + 'hd_exon_logits.csv')"
   ]
  },
  {
   "cell_type": "code",
   "execution_count": 38,
   "id": "2c3b825d-c3a5-4b11-9a4b-4b584e211e81",
   "metadata": {
    "tags": []
   },
   "outputs": [
    {
     "name": "stdout",
     "output_type": "stream",
     "text": [
      "hd-proximity-Perplexity: 8.750526428222656\n"
     ]
    }
   ],
   "source": [
    "calculate_ppl(base_dir + 'hd_proximity_logits.csv')"
   ]
  },
  {
   "cell_type": "code",
   "execution_count": 39,
   "id": "717c79d8-c35d-4573-88c6-82d08f4d7618",
   "metadata": {
    "tags": []
   },
   "outputs": [
    {
     "name": "stdout",
     "output_type": "stream",
     "text": [
      "hd-intergenic-Perplexity: 8.541299819946289\n"
     ]
    }
   ],
   "source": [
    "calculate_ppl(base_dir + 'hd_intergenic_logits.csv')"
   ]
  },
  {
   "cell_type": "markdown",
   "id": "311cda75-747f-4e99-91f7-d0d54d5f42f7",
   "metadata": {},
   "source": [
    "# Caduceus"
   ]
  },
  {
   "cell_type": "code",
   "execution_count": 33,
   "id": "57ea6a7f-08f1-49d2-bcf2-157f6f8860ea",
   "metadata": {
    "tags": []
   },
   "outputs": [
    {
     "name": "stdout",
     "output_type": "stream",
     "text": [
      "cd-exon-Perplexity: 3.7594082355499268\n"
     ]
    }
   ],
   "source": [
    "calculate_ppl(base_dir + 'cd_exon_logits.csv')"
   ]
  },
  {
   "cell_type": "code",
   "execution_count": 34,
   "id": "7af9a7f3-fdd0-4435-8192-fdcf5e9b3f62",
   "metadata": {
    "tags": []
   },
   "outputs": [
    {
     "name": "stdout",
     "output_type": "stream",
     "text": [
      "cd-proximity-Perplexity: 3.885770797729492\n"
     ]
    }
   ],
   "source": [
    "calculate_ppl(base_dir + 'cd_proximity_logits.csv')"
   ]
  },
  {
   "cell_type": "code",
   "execution_count": 35,
   "id": "0a1d4a9c-c9ee-41d4-bfea-b99632241a8c",
   "metadata": {},
   "outputs": [
    {
     "name": "stdout",
     "output_type": "stream",
     "text": [
      "cd-intergenic-Perplexity: 3.8737258911132812\n"
     ]
    }
   ],
   "source": [
    "calculate_ppl(base_dir + 'cd_intergenic_logits.csv')"
   ]
  },
  {
   "cell_type": "code",
   "execution_count": null,
   "id": "ba963b4e-d9bf-4090-9483-35aa80926534",
   "metadata": {},
   "outputs": [],
   "source": []
  }
 ],
 "metadata": {
  "kernelspec": {
   "display_name": "gpn2",
   "language": "python",
   "name": "gpn2"
  },
  "language_info": {
   "codemirror_mode": {
    "name": "ipython",
    "version": 3
   },
   "file_extension": ".py",
   "mimetype": "text/x-python",
   "name": "python",
   "nbconvert_exporter": "python",
   "pygments_lexer": "ipython3",
   "version": "3.12.6"
  }
 },
 "nbformat": 4,
 "nbformat_minor": 5
}
