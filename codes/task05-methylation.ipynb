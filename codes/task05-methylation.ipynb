{
 "cells": [
  {
   "cell_type": "code",
   "execution_count": 9,
   "id": "a37715e1-db40-403a-b1a2-dcafe81b1f5e",
   "metadata": {},
   "outputs": [],
   "source": [
    "# use PyTorch-1.7.1 kernel\n",
    "\n",
    "# import glob\n",
    "\n",
    "import torch\n",
    "import torch.nn as nn\n",
    "import torch.optim as optim\n",
    "import numpy as np\n",
    "import pandas as pd\n",
    "# import dask.dataframe as dd\n",
    "from sklearn.model_selection import train_test_split\n",
    "from sklearn.preprocessing import StandardScaler"
   ]
  },
  {
   "cell_type": "markdown",
   "id": "f71a2ea1-a1b0-41a6-a9bf-ce6e9986d1c9",
   "metadata": {},
   "source": [
    "## Mathylation Main Algorithm -- Two-Layer MLP Regression"
   ]
  },
  {
   "cell_type": "code",
   "execution_count": 2,
   "id": "7782eb32-f678-43d1-8531-4e203ccaf790",
   "metadata": {
    "jupyter": {
     "source_hidden": true
    }
   },
   "outputs": [],
   "source": [
    "# Define a simple MLP model for regression\n",
    "class MLPRegression(nn.Module):\n",
    "    def __init__(self, input_dim):\n",
    "        super(MLPRegression, self).__init__()\n",
    "        self.fc1 = nn.Linear(input_dim, 128)\n",
    "        self.fc2 = nn.Linear(128, 64)\n",
    "        self.fc3 = nn.Linear(64, 1)\n",
    "        self.relu = nn.ReLU()\n",
    "\n",
    "    def forward(self, x):\n",
    "        x = self.relu(self.fc1(x))\n",
    "        x = self.relu(self.fc2(x))\n",
    "        x = self.fc3(x)  # No activation in the final layer (for regression)\n",
    "        return x\n",
    "\n",
    "# RMSE calculation\n",
    "def compute_rmse(y_true, y_pred):\n",
    "    return torch.sqrt(torch.mean((y_true - y_pred) ** 2))\n",
    "\n",
    "# Pearson's correlation calculation\n",
    "def compute_pearson(y_true, y_pred):\n",
    "    y_true_mean = torch.mean(y_true)\n",
    "    y_pred_mean = torch.mean(y_pred)\n",
    "    covariance = torch.sum((y_true - y_true_mean) * (y_pred - y_pred_mean))\n",
    "    y_true_var = torch.sum((y_true - y_true_mean) ** 2)\n",
    "    y_pred_var = torch.sum((y_pred - y_pred_mean) ** 2)\n",
    "    return covariance / torch.sqrt(y_true_var * y_pred_var)\n",
    "\n",
    "\n",
    "\n",
    "\n",
    "def methylation_regression(data_array):\n",
    "        \n",
    "    X = data_array[:, :-1]\n",
    "    y = data_array[:, -1]\n",
    "    \n",
    "    # Split the dataset into train and test sets\n",
    "    X_train, X_test, y_train, y_test = train_test_split(X, y, test_size=0.2, random_state=42)\n",
    "    \n",
    "    # Standardize the input features\n",
    "    scaler = StandardScaler()\n",
    "    X_train = scaler.fit_transform(X_train)\n",
    "    X_test = scaler.transform(X_test)\n",
    "    \n",
    "    # Convert the data to PyTorch tensors\n",
    "    X_train_tensor = torch.tensor(X_train, dtype=torch.float32)\n",
    "    y_train_tensor = torch.tensor(y_train, dtype=torch.float32).view(-1, 1)\n",
    "    X_test_tensor = torch.tensor(X_test, dtype=torch.float32)\n",
    "    y_test_tensor = torch.tensor(y_test, dtype=torch.float32).view(-1, 1)\n",
    "    \n",
    "    \n",
    "    # Initialize the model, loss function, and optimizer\n",
    "    input_dim = X_train.shape[1]  # Set input_dim dynamically\n",
    "    model = MLPRegression(input_dim=input_dim)\n",
    "    criterion = nn.MSELoss()  # Mean Squared Error for regression\n",
    "    optimizer = optim.Adam(model.parameters(), lr=0.001)\n",
    "    \n",
    "    # Training loop\n",
    "    num_epochs = 300\n",
    "    for epoch in range(num_epochs):\n",
    "        model.train()\n",
    "        optimizer.zero_grad()\n",
    "        \n",
    "        # Forward pass\n",
    "        outputs = model(X_train_tensor)\n",
    "        loss = criterion(outputs, y_train_tensor)\n",
    "        \n",
    "        # Backward pass and optimization\n",
    "        loss.backward()\n",
    "        optimizer.step()\n",
    "        \n",
    "        if (epoch+1) % 10 == 0:\n",
    "            print(f'Epoch [{epoch+1}/{num_epochs}], Loss: {loss.item():.4f}')\n",
    "    \n",
    "    # Testing loop\n",
    "    model.eval()\n",
    "    with torch.no_grad():\n",
    "        predictions = model(X_test_tensor)\n",
    "        test_loss = criterion(predictions, y_test_tensor)\n",
    "        print(f'Test Loss (MSE): {test_loss.item():.4f}')\n",
    "    \n",
    "        # Compute RMSE\n",
    "        rmse = compute_rmse(y_test_tensor, predictions)\n",
    "        print(f'Test RMSE: {rmse.item():.4f}')\n",
    "        \n",
    "        # Compute Pearson's correlation coefficient\n",
    "        pearson_r = compute_pearson(y_test_tensor, predictions)\n",
    "        print(f'Pearson Correlation: {pearson_r.item():.4f}')"
   ]
  },
  {
   "cell_type": "markdown",
   "id": "5b783681-e616-45ce-831a-cb49f3ba8061",
   "metadata": {},
   "source": [
    "## Base Directory of embedding data file"
   ]
  },
  {
   "cell_type": "code",
   "execution_count": 3,
   "id": "a957eb97-5a5e-41dc-9993-61c418965c12",
   "metadata": {},
   "outputs": [],
   "source": [
    "base_dir = '../embeddings/methylation/embedding-csv/'"
   ]
  },
  {
   "cell_type": "markdown",
   "id": "c09aba03-43e0-4d4c-9431-6ae63f6e42b9",
   "metadata": {},
   "source": [
    "## Load Embedding file"
   ]
  },
  {
   "cell_type": "code",
   "execution_count": 4,
   "id": "37efb605-63ee-41dd-b442-fa62d22d7123",
   "metadata": {
    "jupyter": {
     "source_hidden": true
    }
   },
   "outputs": [],
   "source": [
    "def load_embedding_file(csv_filename):\n",
    "\n",
    "    df=pd.read_csv(csv_filename)\n",
    "        \n",
    "    # column_names = ['CHROM', 'START', 'SIZE', 'y','dna']\n",
    "    # column_names.extend([f'{i}' for i in range(1, df.shape[1]-4)])\n",
    "\n",
    "    # df.columns = column_names\n",
    "    \n",
    "    # df = df.drop(columns=['CHROM', 'START', 'SIZE', 'dna'], axis=1)\n",
    "\n",
    "    # first_col = df.iloc[:, 0]  \n",
    "    # df = df.drop(df.columns[0], axis=1)  \n",
    "    # df[first_col.name] = first_col \n",
    "\n",
    "    data_array = df.to_numpy()\n",
    "    return data_array"
   ]
  },
  {
   "cell_type": "markdown",
   "id": "7ea75f7f-11ca-4b62-b484-56845d917f09",
   "metadata": {},
   "source": [
    "### GPN"
   ]
  },
  {
   "cell_type": "code",
   "execution_count": 10,
   "id": "30be6f31-4cae-423f-9440-032b71f9e261",
   "metadata": {
    "collapsed": true,
    "jupyter": {
     "outputs_hidden": true
    }
   },
   "outputs": [
    {
     "name": "stdout",
     "output_type": "stream",
     "text": [
      "Epoch [10/300], Loss: 5478.1318\n",
      "Epoch [20/300], Loss: 3708.0911\n",
      "Epoch [30/300], Loss: 1268.8960\n",
      "Epoch [40/300], Loss: 1109.1757\n",
      "Epoch [50/300], Loss: 771.9333\n",
      "Epoch [60/300], Loss: 710.4431\n",
      "Epoch [70/300], Loss: 665.7606\n",
      "Epoch [80/300], Loss: 630.5590\n",
      "Epoch [90/300], Loss: 613.3790\n",
      "Epoch [100/300], Loss: 599.4257\n",
      "Epoch [110/300], Loss: 586.7148\n",
      "Epoch [120/300], Loss: 575.5618\n",
      "Epoch [130/300], Loss: 565.4338\n",
      "Epoch [140/300], Loss: 556.3537\n",
      "Epoch [150/300], Loss: 548.4974\n",
      "Epoch [160/300], Loss: 541.7836\n",
      "Epoch [170/300], Loss: 536.3010\n",
      "Epoch [180/300], Loss: 531.9857\n",
      "Epoch [190/300], Loss: 528.5250\n",
      "Epoch [200/300], Loss: 525.6436\n",
      "Epoch [210/300], Loss: 523.1539\n",
      "Epoch [220/300], Loss: 520.9193\n",
      "Epoch [230/300], Loss: 518.8572\n",
      "Epoch [240/300], Loss: 516.9494\n",
      "Epoch [250/300], Loss: 515.1584\n",
      "Epoch [260/300], Loss: 513.4771\n",
      "Epoch [270/300], Loss: 511.8884\n",
      "Epoch [280/300], Loss: 510.3866\n",
      "Epoch [290/300], Loss: 508.9584\n",
      "Epoch [300/300], Loss: 507.6008\n",
      "Test Loss (MSE): 509.8556\n",
      "Test RMSE: 22.5800\n",
      "Pearson Correlation: 0.5043\n"
     ]
    }
   ],
   "source": [
    "data_array = load_embedding_file(base_dir + 'methylation_gpn_embedding.csv')\n",
    "methylation_regression(data_array)"
   ]
  },
  {
   "cell_type": "markdown",
   "id": "316812e0-d313-4380-bd93-0d8b5846baed",
   "metadata": {},
   "source": [
    "### DNABERT2"
   ]
  },
  {
   "cell_type": "code",
   "execution_count": 11,
   "id": "7989fb02-fff8-49e1-825e-b480bb06d1af",
   "metadata": {
    "collapsed": true,
    "jupyter": {
     "outputs_hidden": true
    }
   },
   "outputs": [
    {
     "name": "stdout",
     "output_type": "stream",
     "text": [
      "Epoch [10/300], Loss: 5723.6484\n",
      "Epoch [20/300], Loss: 4773.3950\n",
      "Epoch [30/300], Loss: 2942.0813\n",
      "Epoch [40/300], Loss: 1250.2733\n",
      "Epoch [50/300], Loss: 896.9476\n",
      "Epoch [60/300], Loss: 751.0995\n",
      "Epoch [70/300], Loss: 695.1877\n",
      "Epoch [80/300], Loss: 653.6878\n",
      "Epoch [90/300], Loss: 628.3942\n",
      "Epoch [100/300], Loss: 609.0859\n",
      "Epoch [110/300], Loss: 594.7344\n",
      "Epoch [120/300], Loss: 582.6096\n",
      "Epoch [130/300], Loss: 572.7758\n",
      "Epoch [140/300], Loss: 564.2759\n",
      "Epoch [150/300], Loss: 556.9548\n",
      "Epoch [160/300], Loss: 550.5713\n",
      "Epoch [170/300], Loss: 544.9264\n",
      "Epoch [180/300], Loss: 539.8746\n",
      "Epoch [190/300], Loss: 535.2977\n",
      "Epoch [200/300], Loss: 531.1212\n",
      "Epoch [210/300], Loss: 527.2679\n",
      "Epoch [220/300], Loss: 523.6884\n",
      "Epoch [230/300], Loss: 520.3441\n",
      "Epoch [240/300], Loss: 517.1917\n",
      "Epoch [250/300], Loss: 514.1804\n",
      "Epoch [260/300], Loss: 511.2696\n",
      "Epoch [270/300], Loss: 508.4750\n",
      "Epoch [280/300], Loss: 505.7589\n",
      "Epoch [290/300], Loss: 503.1231\n",
      "Epoch [300/300], Loss: 500.5524\n",
      "Test Loss (MSE): 523.0770\n",
      "Test RMSE: 22.8709\n",
      "Pearson Correlation: 0.4877\n"
     ]
    }
   ],
   "source": [
    "data_array = load_embedding_file(base_dir + 'methylation_dnabert2_embedding.csv')\n",
    "methylation_regression(data_array)"
   ]
  },
  {
   "cell_type": "markdown",
   "id": "0922fb2a-294d-4e5f-a6ed-4138dcdaa172",
   "metadata": {},
   "source": [
    "### NT"
   ]
  },
  {
   "cell_type": "code",
   "execution_count": 12,
   "id": "8ff46bd8-1d45-4c07-9087-f6ea23a716d7",
   "metadata": {
    "collapsed": true,
    "jupyter": {
     "outputs_hidden": true
    }
   },
   "outputs": [
    {
     "name": "stdout",
     "output_type": "stream",
     "text": [
      "Epoch [10/300], Loss: 5497.6504\n",
      "Epoch [20/300], Loss: 3866.5767\n",
      "Epoch [30/300], Loss: 1862.0349\n",
      "Epoch [40/300], Loss: 1542.0035\n",
      "Epoch [50/300], Loss: 980.9959\n",
      "Epoch [60/300], Loss: 767.3196\n",
      "Epoch [70/300], Loss: 702.6310\n",
      "Epoch [80/300], Loss: 660.0431\n",
      "Epoch [90/300], Loss: 634.3981\n",
      "Epoch [100/300], Loss: 618.7062\n",
      "Epoch [110/300], Loss: 606.4528\n",
      "Epoch [120/300], Loss: 596.6179\n",
      "Epoch [130/300], Loss: 588.3116\n",
      "Epoch [140/300], Loss: 580.9419\n",
      "Epoch [150/300], Loss: 574.2425\n",
      "Epoch [160/300], Loss: 568.1375\n",
      "Epoch [170/300], Loss: 562.5609\n",
      "Epoch [180/300], Loss: 557.4078\n",
      "Epoch [190/300], Loss: 552.6269\n",
      "Epoch [200/300], Loss: 548.1791\n",
      "Epoch [210/300], Loss: 543.9837\n",
      "Epoch [220/300], Loss: 539.9894\n",
      "Epoch [230/300], Loss: 536.2083\n",
      "Epoch [240/300], Loss: 532.5889\n",
      "Epoch [250/300], Loss: 529.1090\n",
      "Epoch [260/300], Loss: 525.7535\n",
      "Epoch [270/300], Loss: 522.4729\n",
      "Epoch [280/300], Loss: 519.2582\n",
      "Epoch [290/300], Loss: 516.1113\n",
      "Epoch [300/300], Loss: 513.0177\n",
      "Test Loss (MSE): 548.9774\n",
      "Test RMSE: 23.4303\n",
      "Pearson Correlation: 0.4424\n"
     ]
    }
   ],
   "source": [
    "data_array = load_embedding_file(base_dir + 'methylation_nt_embedding.csv')\n",
    "methylation_regression(data_array)"
   ]
  },
  {
   "cell_type": "markdown",
   "id": "967de125-3a39-4398-a86a-00539332e3db",
   "metadata": {},
   "source": [
    "### HyenaDNA"
   ]
  },
  {
   "cell_type": "code",
   "execution_count": 13,
   "id": "77370ff2-78fc-4428-9d3f-e738d70c5bee",
   "metadata": {
    "collapsed": true,
    "jupyter": {
     "outputs_hidden": true
    }
   },
   "outputs": [
    {
     "name": "stdout",
     "output_type": "stream",
     "text": [
      "Epoch [10/300], Loss: 5801.6841\n",
      "Epoch [20/300], Loss: 5104.1182\n",
      "Epoch [30/300], Loss: 3661.4353\n",
      "Epoch [40/300], Loss: 1930.1376\n",
      "Epoch [50/300], Loss: 1232.4852\n",
      "Epoch [60/300], Loss: 991.7443\n",
      "Epoch [70/300], Loss: 855.2886\n",
      "Epoch [80/300], Loss: 757.1953\n",
      "Epoch [90/300], Loss: 701.2607\n",
      "Epoch [100/300], Loss: 664.4675\n",
      "Epoch [110/300], Loss: 642.6724\n",
      "Epoch [120/300], Loss: 626.2875\n",
      "Epoch [130/300], Loss: 613.9024\n",
      "Epoch [140/300], Loss: 603.8984\n",
      "Epoch [150/300], Loss: 595.9269\n",
      "Epoch [160/300], Loss: 589.4467\n",
      "Epoch [170/300], Loss: 584.0226\n",
      "Epoch [180/300], Loss: 579.3590\n",
      "Epoch [190/300], Loss: 575.2871\n",
      "Epoch [200/300], Loss: 571.7029\n",
      "Epoch [210/300], Loss: 568.5120\n",
      "Epoch [220/300], Loss: 565.6276\n",
      "Epoch [230/300], Loss: 562.9646\n",
      "Epoch [240/300], Loss: 560.4799\n",
      "Epoch [250/300], Loss: 558.1511\n",
      "Epoch [260/300], Loss: 555.9483\n",
      "Epoch [270/300], Loss: 553.8674\n",
      "Epoch [280/300], Loss: 551.8893\n",
      "Epoch [290/300], Loss: 550.0082\n",
      "Epoch [300/300], Loss: 548.2188\n",
      "Test Loss (MSE): 555.5245\n",
      "Test RMSE: 23.5696\n",
      "Pearson Correlation: 0.4388\n"
     ]
    }
   ],
   "source": [
    "data_array = load_embedding_file(base_dir + 'methylation_hyena_embedding.csv')\n",
    "methylation_regression(data_array)"
   ]
  },
  {
   "cell_type": "markdown",
   "id": "08bb4865-2945-45fb-82f0-211cff26f0a3",
   "metadata": {},
   "source": [
    "### Caduceus"
   ]
  },
  {
   "cell_type": "code",
   "execution_count": 14,
   "id": "8fb61950-f2ef-4eb0-a5e7-a2b484687b12",
   "metadata": {
    "collapsed": true,
    "jupyter": {
     "outputs_hidden": true
    }
   },
   "outputs": [
    {
     "name": "stdout",
     "output_type": "stream",
     "text": [
      "Epoch [10/300], Loss: 5733.0522\n",
      "Epoch [20/300], Loss: 4855.4473\n",
      "Epoch [30/300], Loss: 3151.5430\n",
      "Epoch [40/300], Loss: 1522.1169\n",
      "Epoch [50/300], Loss: 1183.0845\n",
      "Epoch [60/300], Loss: 936.1277\n",
      "Epoch [70/300], Loss: 833.7037\n",
      "Epoch [80/300], Loss: 740.3685\n",
      "Epoch [90/300], Loss: 693.1351\n",
      "Epoch [100/300], Loss: 658.9875\n",
      "Epoch [110/300], Loss: 637.5254\n",
      "Epoch [120/300], Loss: 621.0016\n",
      "Epoch [130/300], Loss: 607.8286\n",
      "Epoch [140/300], Loss: 597.2402\n",
      "Epoch [150/300], Loss: 588.8301\n",
      "Epoch [160/300], Loss: 582.0900\n",
      "Epoch [170/300], Loss: 576.5182\n",
      "Epoch [180/300], Loss: 571.7691\n",
      "Epoch [190/300], Loss: 567.7322\n",
      "Epoch [200/300], Loss: 564.1944\n",
      "Epoch [210/300], Loss: 561.0672\n",
      "Epoch [220/300], Loss: 558.2411\n",
      "Epoch [230/300], Loss: 555.6592\n",
      "Epoch [240/300], Loss: 553.2743\n",
      "Epoch [250/300], Loss: 551.0432\n",
      "Epoch [260/300], Loss: 548.9457\n",
      "Epoch [270/300], Loss: 546.9633\n",
      "Epoch [280/300], Loss: 545.0789\n",
      "Epoch [290/300], Loss: 543.2823\n",
      "Epoch [300/300], Loss: 541.5673\n",
      "Test Loss (MSE): 549.9398\n",
      "Test RMSE: 23.4508\n",
      "Pearson Correlation: 0.4465\n"
     ]
    }
   ],
   "source": [
    "data_array = load_embedding_file(base_dir + 'methylation_hyena_embedding.csv')\n",
    "methylation_regression(data_array)"
   ]
  },
  {
   "cell_type": "code",
   "execution_count": null,
   "id": "0a8b8389-493e-482a-942e-e9b31534a643",
   "metadata": {},
   "outputs": [],
   "source": []
  }
 ],
 "metadata": {
  "kernelspec": {
   "display_name": "PyTorch-1.7.1",
   "language": "python",
   "name": "pytorch-1.7.1"
  },
  "language_info": {
   "codemirror_mode": {
    "name": "ipython",
    "version": 3
   },
   "file_extension": ".py",
   "mimetype": "text/x-python",
   "name": "python",
   "nbconvert_exporter": "python",
   "pygments_lexer": "ipython3",
   "version": "3.8.6"
  }
 },
 "nbformat": 4,
 "nbformat_minor": 5
}
