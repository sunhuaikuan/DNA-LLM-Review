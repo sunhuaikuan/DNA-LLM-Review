{
 "cells": [
  {
   "cell_type": "code",
   "execution_count": 1,
   "id": "ebe9a5e0-c825-49e3-8119-69ffcbb8ed98",
   "metadata": {
    "tags": []
   },
   "outputs": [],
   "source": [
    "import torch\n",
    "import numpy as np\n",
    "import pandas as pd\n",
    "import torch.nn.functional as F"
   ]
  },
  {
   "cell_type": "code",
   "execution_count": 2,
   "id": "cf1391a5-3eac-4271-927c-ad909a897572",
   "metadata": {
    "tags": []
   },
   "outputs": [],
   "source": [
    "logits_file_name = '/blue/xiaofan/chenyuanhan/gpn222/logits-proximity.npy'\n",
    "logits_gpn = np.load(logits_file_name, allow_pickle=True)\n",
    "\n",
    "logits_tensor = torch.tensor(logits_gpn)\n",
    "\n",
    "token_file_name = '/blue/xiaofan/chenyuanhan/gpn222/logits-proximity-tokens.npy'\n",
    "tokens_gpn = np.load(token_file_name, allow_pickle=True)\n",
    "\n",
    "tokens_tensor = torch.tensor(tokens_gpn)"
   ]
  },
  {
   "cell_type": "code",
   "execution_count": 3,
   "id": "25e7b276-a6c8-4d2f-8d69-c06914599682",
   "metadata": {
    "tags": []
   },
   "outputs": [
    {
     "data": {
      "text/plain": [
       "tensor(2.2422)"
      ]
     },
     "execution_count": 3,
     "metadata": {},
     "output_type": "execute_result"
    }
   ],
   "source": [
    "loss = F.cross_entropy(logits_tensor, tokens_tensor)\n",
    "ppl = torch.exp(loss)\n",
    "ppl"
   ]
  },
  {
   "cell_type": "code",
   "execution_count": 4,
   "id": "27222339-12fb-46d9-995c-aca04b63c418",
   "metadata": {
    "tags": []
   },
   "outputs": [],
   "source": [
    "file_name = '/blue/xiaofan/chenyuanhan/hyena-dna/logits-exon.npy'\n",
    "logits_hd = np.load(file_name, allow_pickle=True)\n",
    "\n",
    "logits_tensor = torch.tensor(logits_hd)\n",
    "\n",
    "token_file_name = '/blue/xiaofan/chenyuanhan/hyena-dna/logits-exon-tokens.npy'\n",
    "tokens_hd = np.load(token_file_name, allow_pickle=True)\n",
    "\n",
    "tokens_tensor = torch.tensor(tokens_hd)"
   ]
  },
  {
   "cell_type": "code",
   "execution_count": 5,
   "id": "53a18d97-dbab-4d49-9e06-e8966fb77844",
   "metadata": {
    "tags": []
   },
   "outputs": [],
   "source": [
    "logits = logits_tensor[:, :, 63, :]\n",
    "logits = logits.view(-1, 16)"
   ]
  },
  {
   "cell_type": "code",
   "execution_count": 6,
   "id": "158085e3-5d0d-49ab-9071-38688c8a8211",
   "metadata": {
    "tags": []
   },
   "outputs": [
    {
     "data": {
      "text/plain": [
       "tensor(3.5967)"
      ]
     },
     "execution_count": 6,
     "metadata": {},
     "output_type": "execute_result"
    }
   ],
   "source": [
    "loss = F.cross_entropy(logits, tokens_tensor)\n",
    "ppl = torch.exp(loss)\n",
    "ppl"
   ]
  },
  {
   "cell_type": "code",
   "execution_count": 7,
   "id": "059b71a2-7c35-47da-9a18-0eefb5ddb58c",
   "metadata": {
    "tags": []
   },
   "outputs": [],
   "source": [
    "file_name = '/blue/xiaofan/chenyuanhan/nucleotide-transformer/logits-intergenic.npy'\n",
    "logits_nt = np.load(file_name, allow_pickle=True)\n",
    "\n",
    "logits_tensor = torch.tensor(logits_nt)\n",
    "\n",
    "token_file_name = '/blue/xiaofan/chenyuanhan/nucleotide-transformer/logits-intergenic-tokens.npy'\n",
    "tokens_nt = np.load(token_file_name, allow_pickle=True)\n",
    "\n",
    "tokens_tensor = torch.tensor(tokens_nt)"
   ]
  },
  {
   "cell_type": "code",
   "execution_count": 8,
   "id": "a59f3512-08ac-41dd-be1d-427a3724aecc",
   "metadata": {
    "tags": []
   },
   "outputs": [],
   "source": [
    "logits = logits_tensor[:, 11, :]\n",
    "tokens = tokens_tensor[:, 11]\n",
    "tokens = tokens.long()"
   ]
  },
  {
   "cell_type": "code",
   "execution_count": 9,
   "id": "fb1f0020-3b6e-4c46-b010-76a5f146bc11",
   "metadata": {
    "tags": []
   },
   "outputs": [
    {
     "data": {
      "text/plain": [
       "tensor(3.3229)"
      ]
     },
     "execution_count": 9,
     "metadata": {},
     "output_type": "execute_result"
    }
   ],
   "source": [
    "loss = F.cross_entropy(logits, tokens)\n",
    "ppl = torch.exp(loss)\n",
    "ppl"
   ]
  },
  {
   "cell_type": "code",
   "execution_count": null,
   "id": "0a1d4a9c-c9ee-41d4-bfea-b99632241a8c",
   "metadata": {},
   "outputs": [],
   "source": []
  }
 ],
 "metadata": {
  "kernelspec": {
   "display_name": "gpn2",
   "language": "python",
   "name": "gpn2"
  },
  "language_info": {
   "codemirror_mode": {
    "name": "ipython",
    "version": 3
   },
   "file_extension": ".py",
   "mimetype": "text/x-python",
   "name": "python",
   "nbconvert_exporter": "python",
   "pygments_lexer": "ipython3",
   "version": "3.12.6"
  }
 },
 "nbformat": 4,
 "nbformat_minor": 5
}
